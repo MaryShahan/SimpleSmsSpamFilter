{
  "nbformat": 4,
  "nbformat_minor": 0,
  "metadata": {
    "colab": {
      "name": "SimpleSmsSpamFilter.ipynb",
      "provenance": [],
      "collapsed_sections": [],
      "authorship_tag": "ABX9TyPCEEhErUpeM2WUiNmYz4cD",
      "include_colab_link": true
    },
    "kernelspec": {
      "name": "python3",
      "display_name": "Python 3"
    },
    "language_info": {
      "name": "python"
    }
  },
  "cells": [
    {
      "cell_type": "markdown",
      "metadata": {
        "id": "view-in-github",
        "colab_type": "text"
      },
      "source": [
        "<a href=\"https://colab.research.google.com/github/maryamshahani/google_colab/blob/main/SimpleSmsSpamFilter.ipynb\" target=\"_parent\"><img src=\"https://colab.research.google.com/assets/colab-badge.svg\" alt=\"Open In Colab\"/></a>"
      ]
    },
    {
      "cell_type": "markdown",
      "metadata": {
        "id": "H6T0JGC17vC3"
      },
      "source": [
        "# Can you use SMSspam.csv dataset to build a prediction model that will accurately classify which texts are spam?\n"
      ]
    },
    {
      "cell_type": "code",
      "metadata": {
        "colab": {
          "base_uri": "https://localhost:8080/"
        },
        "id": "9zgaY5TFXG2U",
        "outputId": "90644b7d-6a5b-4a7c-9ecf-9016ef6d0ddb"
      },
      "source": [
        "#connect to google drive:\n",
        "from google.colab import drive\n",
        "drive.mount('/content/drive')"
      ],
      "execution_count": 37,
      "outputs": [
        {
          "output_type": "stream",
          "name": "stdout",
          "text": [
            "Drive already mounted at /content/drive; to attempt to forcibly remount, call drive.mount(\"/content/drive\", force_remount=True).\n"
          ]
        }
      ]
    },
    {
      "cell_type": "code",
      "metadata": {
        "id": "X00mGQcqhmP2"
      },
      "source": [
        "#dataset file path:\n",
        "file_url = '/content/drive/MyDrive/GoogleColabFiles/SMSspam.csv'"
      ],
      "execution_count": 38,
      "outputs": []
    },
    {
      "cell_type": "code",
      "metadata": {
        "colab": {
          "base_uri": "https://localhost:8080/"
        },
        "id": "uGB9KS1Ohnt9",
        "outputId": "698d7db7-c362-4c87-b7be-52c73b8ac7d2"
      },
      "source": [
        "#If you get a unicode decode error while loading dataset using Pandas: https://www.kaggle.com/paultimothymooney/how-to-resolve-a-unicodedecodeerror-for-a-csv-file\n",
        "import chardet\n",
        "with open(file_url, 'rb') as rawdata:\n",
        "    result = chardet.detect(rawdata.read(100000))\n",
        "result"
      ],
      "execution_count": 39,
      "outputs": [
        {
          "output_type": "execute_result",
          "data": {
            "text/plain": [
              "{'confidence': 0.7270322499829184, 'encoding': 'Windows-1252', 'language': ''}"
            ]
          },
          "metadata": {},
          "execution_count": 39
        }
      ]
    },
    {
      "cell_type": "markdown",
      "metadata": {
        "id": "gbWku4M68PH5"
      },
      "source": [
        "# Step 1: Loading the Dataset using Pandas:"
      ]
    },
    {
      "cell_type": "code",
      "metadata": {
        "colab": {
          "base_uri": "https://localhost:8080/",
          "height": 204
        },
        "id": "3LOID__Vjm7A",
        "outputId": "1dcb6094-30a3-429c-a9d7-22b843b61630"
      },
      "source": [
        "import pandas as pd\n",
        "data = pd.read_csv(file_url,encoding='Windows-1252') # names=['LABEL', 'SMS','NO','NOO','NOOO']\n",
        "data.head() "
      ],
      "execution_count": 40,
      "outputs": [
        {
          "output_type": "execute_result",
          "data": {
            "text/html": [
              "<div>\n",
              "<style scoped>\n",
              "    .dataframe tbody tr th:only-of-type {\n",
              "        vertical-align: middle;\n",
              "    }\n",
              "\n",
              "    .dataframe tbody tr th {\n",
              "        vertical-align: top;\n",
              "    }\n",
              "\n",
              "    .dataframe thead th {\n",
              "        text-align: right;\n",
              "    }\n",
              "</style>\n",
              "<table border=\"1\" class=\"dataframe\">\n",
              "  <thead>\n",
              "    <tr style=\"text-align: right;\">\n",
              "      <th></th>\n",
              "      <th>v1</th>\n",
              "      <th>v2</th>\n",
              "      <th>Unnamed: 2</th>\n",
              "      <th>Unnamed: 3</th>\n",
              "      <th>Unnamed: 4</th>\n",
              "    </tr>\n",
              "  </thead>\n",
              "  <tbody>\n",
              "    <tr>\n",
              "      <th>0</th>\n",
              "      <td>ham</td>\n",
              "      <td>Go until jurong point, crazy.. Available only ...</td>\n",
              "      <td>NaN</td>\n",
              "      <td>NaN</td>\n",
              "      <td>NaN</td>\n",
              "    </tr>\n",
              "    <tr>\n",
              "      <th>1</th>\n",
              "      <td>ham</td>\n",
              "      <td>Ok lar... Joking wif u oni...</td>\n",
              "      <td>NaN</td>\n",
              "      <td>NaN</td>\n",
              "      <td>NaN</td>\n",
              "    </tr>\n",
              "    <tr>\n",
              "      <th>2</th>\n",
              "      <td>spam</td>\n",
              "      <td>Free entry in 2 a wkly comp to win FA Cup fina...</td>\n",
              "      <td>NaN</td>\n",
              "      <td>NaN</td>\n",
              "      <td>NaN</td>\n",
              "    </tr>\n",
              "    <tr>\n",
              "      <th>3</th>\n",
              "      <td>ham</td>\n",
              "      <td>U dun say so early hor... U c already then say...</td>\n",
              "      <td>NaN</td>\n",
              "      <td>NaN</td>\n",
              "      <td>NaN</td>\n",
              "    </tr>\n",
              "    <tr>\n",
              "      <th>4</th>\n",
              "      <td>ham</td>\n",
              "      <td>Nah I don't think he goes to usf, he lives aro...</td>\n",
              "      <td>NaN</td>\n",
              "      <td>NaN</td>\n",
              "      <td>NaN</td>\n",
              "    </tr>\n",
              "  </tbody>\n",
              "</table>\n",
              "</div>"
            ],
            "text/plain": [
              "     v1  ... Unnamed: 4\n",
              "0   ham  ...        NaN\n",
              "1   ham  ...        NaN\n",
              "2  spam  ...        NaN\n",
              "3   ham  ...        NaN\n",
              "4   ham  ...        NaN\n",
              "\n",
              "[5 rows x 5 columns]"
            ]
          },
          "metadata": {},
          "execution_count": 40
        }
      ]
    },
    {
      "cell_type": "markdown",
      "metadata": {
        "id": "0_yn2uXa8dNl"
      },
      "source": [
        "# Step 2: Pre-Processing to make our data easiest to process\n"
      ]
    },
    {
      "cell_type": "code",
      "metadata": {
        "colab": {
          "base_uri": "https://localhost:8080/"
        },
        "id": "29auAqIASdlB",
        "outputId": "feb3b0d1-9c41-4119-a086-b2d7072b3ad2"
      },
      "source": [
        "#load stopwords and punctuations\n",
        "import string\n",
        "import nltk\n",
        "nltk.download('stopwords')\n",
        "nltk.download('punkt')\n",
        "\n",
        "stopwords = nltk.corpus.stopwords.words('english')\n",
        "punctuation = string.punctuation\n",
        "\n",
        "print(stopwords[:10])\n",
        "print(len(stopwords))\n",
        "print(stopwords[170:179])\n",
        "print(punctuation[:5])\n",
        "print(punctuation)\n",
        "print(len(punctuation))\n",
        "print(punctuation[22:32])\n"
      ],
      "execution_count": 41,
      "outputs": [
        {
          "output_type": "stream",
          "name": "stdout",
          "text": [
            "[nltk_data] Downloading package stopwords to /root/nltk_data...\n",
            "[nltk_data]   Package stopwords is already up-to-date!\n",
            "[nltk_data] Downloading package punkt to /root/nltk_data...\n",
            "[nltk_data]   Package punkt is already up-to-date!\n",
            "['i', 'me', 'my', 'myself', 'we', 'our', 'ours', 'ourselves', 'you', \"you're\"]\n",
            "179\n",
            "[\"shouldn't\", 'wasn', \"wasn't\", 'weren', \"weren't\", 'won', \"won't\", 'wouldn', \"wouldn't\"]\n",
            "!\"#$%\n",
            "!\"#$%&'()*+,-./:;<=>?@[\\]^_`{|}~\n",
            "32\n",
            "[\\]^_`{|}~\n"
          ]
        }
      ]
    },
    {
      "cell_type": "code",
      "metadata": {
        "colab": {
          "base_uri": "https://localhost:8080/",
          "height": 204
        },
        "id": "D_ADBvI5eLjC",
        "outputId": "ae77f83a-6bac-4285-eefc-a0eea42d808c"
      },
      "source": [
        "#removing stopwords and punctuations from our dataset\n",
        "def pre_process(v2):\n",
        "  lowercase_remove_punkt = \"\".join([char.lower() for char in v2 if char not in punctuation])\n",
        "  tokenize = nltk.tokenize.word_tokenize(lowercase_remove_punkt)\n",
        "  remove_stopwords = [word for word in tokenize if word not in stopwords]\n",
        "  return remove_stopwords\n",
        "\n",
        " #adding a column to our data with our processed messages \n",
        "data['processed'] = data['v2'].apply(lambda x : pre_process(x))\n",
        "data.head()"
      ],
      "execution_count": 42,
      "outputs": [
        {
          "output_type": "execute_result",
          "data": {
            "text/html": [
              "<div>\n",
              "<style scoped>\n",
              "    .dataframe tbody tr th:only-of-type {\n",
              "        vertical-align: middle;\n",
              "    }\n",
              "\n",
              "    .dataframe tbody tr th {\n",
              "        vertical-align: top;\n",
              "    }\n",
              "\n",
              "    .dataframe thead th {\n",
              "        text-align: right;\n",
              "    }\n",
              "</style>\n",
              "<table border=\"1\" class=\"dataframe\">\n",
              "  <thead>\n",
              "    <tr style=\"text-align: right;\">\n",
              "      <th></th>\n",
              "      <th>v1</th>\n",
              "      <th>v2</th>\n",
              "      <th>Unnamed: 2</th>\n",
              "      <th>Unnamed: 3</th>\n",
              "      <th>Unnamed: 4</th>\n",
              "      <th>processed</th>\n",
              "    </tr>\n",
              "  </thead>\n",
              "  <tbody>\n",
              "    <tr>\n",
              "      <th>0</th>\n",
              "      <td>ham</td>\n",
              "      <td>Go until jurong point, crazy.. Available only ...</td>\n",
              "      <td>NaN</td>\n",
              "      <td>NaN</td>\n",
              "      <td>NaN</td>\n",
              "      <td>[go, jurong, point, crazy, available, bugis, n...</td>\n",
              "    </tr>\n",
              "    <tr>\n",
              "      <th>1</th>\n",
              "      <td>ham</td>\n",
              "      <td>Ok lar... Joking wif u oni...</td>\n",
              "      <td>NaN</td>\n",
              "      <td>NaN</td>\n",
              "      <td>NaN</td>\n",
              "      <td>[ok, lar, joking, wif, u, oni]</td>\n",
              "    </tr>\n",
              "    <tr>\n",
              "      <th>2</th>\n",
              "      <td>spam</td>\n",
              "      <td>Free entry in 2 a wkly comp to win FA Cup fina...</td>\n",
              "      <td>NaN</td>\n",
              "      <td>NaN</td>\n",
              "      <td>NaN</td>\n",
              "      <td>[free, entry, 2, wkly, comp, win, fa, cup, fin...</td>\n",
              "    </tr>\n",
              "    <tr>\n",
              "      <th>3</th>\n",
              "      <td>ham</td>\n",
              "      <td>U dun say so early hor... U c already then say...</td>\n",
              "      <td>NaN</td>\n",
              "      <td>NaN</td>\n",
              "      <td>NaN</td>\n",
              "      <td>[u, dun, say, early, hor, u, c, already, say]</td>\n",
              "    </tr>\n",
              "    <tr>\n",
              "      <th>4</th>\n",
              "      <td>ham</td>\n",
              "      <td>Nah I don't think he goes to usf, he lives aro...</td>\n",
              "      <td>NaN</td>\n",
              "      <td>NaN</td>\n",
              "      <td>NaN</td>\n",
              "      <td>[nah, dont, think, goes, usf, lives, around, t...</td>\n",
              "    </tr>\n",
              "  </tbody>\n",
              "</table>\n",
              "</div>"
            ],
            "text/plain": [
              "     v1  ...                                          processed\n",
              "0   ham  ...  [go, jurong, point, crazy, available, bugis, n...\n",
              "1   ham  ...                     [ok, lar, joking, wif, u, oni]\n",
              "2  spam  ...  [free, entry, 2, wkly, comp, win, fa, cup, fin...\n",
              "3   ham  ...      [u, dun, say, early, hor, u, c, already, say]\n",
              "4   ham  ...  [nah, dont, think, goes, usf, lives, around, t...\n",
              "\n",
              "[5 rows x 6 columns]"
            ]
          },
          "metadata": {},
          "execution_count": 42
        }
      ]
    },
    {
      "cell_type": "code",
      "metadata": {
        "colab": {
          "base_uri": "https://localhost:8080/"
        },
        "id": "3iEqHQG4vQrd",
        "outputId": "eef7a4a8-a6b6-4338-8055-a643aefc112a"
      },
      "source": [
        "data['processed'].head()"
      ],
      "execution_count": 43,
      "outputs": [
        {
          "output_type": "execute_result",
          "data": {
            "text/plain": [
              "0    [go, jurong, point, crazy, available, bugis, n...\n",
              "1                       [ok, lar, joking, wif, u, oni]\n",
              "2    [free, entry, 2, wkly, comp, win, fa, cup, fin...\n",
              "3        [u, dun, say, early, hor, u, c, already, say]\n",
              "4    [nah, dont, think, goes, usf, lives, around, t...\n",
              "Name: processed, dtype: object"
            ]
          },
          "metadata": {},
          "execution_count": 43
        }
      ]
    },
    {
      "cell_type": "markdown",
      "metadata": {
        "id": "agqtw9Eu8ziH"
      },
      "source": [
        "# Step 3: Categorizing and Counting Tokens"
      ]
    },
    {
      "cell_type": "code",
      "metadata": {
        "colab": {
          "base_uri": "https://localhost:8080/"
        },
        "id": "EJ4kBtyv0tMG",
        "outputId": "f5f16020-71e3-4686-f006-2f209756b94a"
      },
      "source": [
        "#categorizing ham/spam associated words\n",
        "def categorize_words():\n",
        "  spam_words = []\n",
        "  ham_words = []\n",
        "  \n",
        "  for x in data['processed'][data['v1'] == 'spam']:\n",
        "    for word in x:\n",
        "      spam_words.append(word)\n",
        "\n",
        "  for x in data['processed'][data['v1'] == 'ham']:\n",
        "    for word in x:\n",
        "      ham_words.append(word)\n",
        "\n",
        "  return spam_words, ham_words\n",
        "\n",
        "spam_words, ham_words = categorize_words()\n",
        "\n",
        "print(spam_words[:6])\n",
        "print(ham_words[:6])"
      ],
      "execution_count": 44,
      "outputs": [
        {
          "output_type": "stream",
          "name": "stdout",
          "text": [
            "['free', 'entry', '2', 'wkly', 'comp', 'win']\n",
            "['go', 'jurong', 'point', 'crazy', 'available', 'bugis']\n"
          ]
        }
      ]
    },
    {
      "cell_type": "markdown",
      "metadata": {
        "id": "O_1DyjZV9T4A"
      },
      "source": [
        "# Step 4: Predict Function\n"
      ]
    },
    {
      "cell_type": "code",
      "metadata": {
        "colab": {
          "base_uri": "https://localhost:8080/"
        },
        "id": "ehKXFby58pS1",
        "outputId": "5859c5c0-75e6-4dc7-823c-31409c12bba2"
      },
      "source": [
        "#itterate from all the words from the user input and count their accurances in both spam_words and ham_words\n",
        "def predict(user_input):\n",
        "  spam_counter = 0\n",
        "  ham_counter = 0\n",
        "\n",
        "  for word in user_input:\n",
        "    spam_counter += spam_words.count(word)\n",
        "    ham_counter += ham_words.count(word)\n",
        "\n",
        "  print('***RESULTS***')\n",
        "  #if the message is ham\n",
        "  if ham_counter > spam_counter:\n",
        "      accuracy = round((ham_counter / (ham_counter + spam_counter) * 100))\n",
        "      print('messege is not spam, with {}% certainty'.format(accuracy))\n",
        "  #if the message could be equally spam and ham\n",
        "  elif ham_counter == spam_counter:\n",
        "      print('message could be spam')\n",
        "  #if the message is spam\n",
        "  else:\n",
        "      accuracy = round((spam_counter / (ham_counter + spam_counter)* 100))\n",
        "      print('message is spam, with {}% certainty'.format(accuracy))\n",
        "\n",
        "\n",
        "#Collecting User Input & Results\n",
        "user_input = input(\"Please type a spam or ham message to check if our function predicts accurately\\n\") \n",
        "\n",
        "#pre-processing the input before prediction\n",
        "processed_input = pre_process(user_input)\n",
        "\n",
        "predict(processed_input)  \n"
      ],
      "execution_count": 45,
      "outputs": [
        {
          "output_type": "stream",
          "name": "stdout",
          "text": [
            "Please type a spam or ham message to check if our function predicts accurately\n",
            "my name is Jack Capitan Jack\n",
            "***RESULTS***\n",
            "messege is not spam, with 73% certainty\n"
          ]
        }
      ]
    }
  ]
}